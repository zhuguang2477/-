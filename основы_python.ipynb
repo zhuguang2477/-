{
 "cells": [
  {
   "cell_type": "markdown",
   "metadata": {
    "id": "M-DGa20PaHnu"
   },
   "source": [
    "#Задача 1\n",
    "Написать функцию на вход которой подается строка, состоящая из латинских букв.\n",
    "Функция должна вернуть количество гласных букв (a, e, i, o, u) в этой строке. Написать тесты для кода"
   ]
  },
  {
   "cell_type": "code",
   "execution_count": null,
   "metadata": {
    "id": "XvX8X_JJ6PCb"
   },
   "outputs": [
    {
     "name": "stdout",
     "output_type": "stream",
     "text": [
      "Результат теста 1: 2, Ожидаемый: 2, Пройден\n",
      "Результат теста 2: 2, Ожидаемый: 2, Пройден\n"
     ]
    }
   ],
   "source": [
    "def count_vowels(input_string):\n",
    "    vowels = 'aeiou'\n",
    "    count = 0\n",
    "    for char in input_string:\n",
    "        if char.lower() in vowels:\n",
    "            count += 1\n",
    "    return count\n",
    "\n",
    "# Тест 1\n",
    "result1 = count_vowels(\"Hello\")\n",
    "expected1 = 2\n",
    "print(f\"Результат теста 1: {result1}, Ожидаемый: {expected1}, {'Пройден' if result1 == expected1 else 'Не пройден'}\")\n",
    "# Тест 2\n",
    "result2 = count_vowels(\"apple\")\n",
    "expected2 = 2\n",
    "print(f\"Результат теста 2: {result2}, Ожидаемый: {expected2}, {'Пройден' if result2 == expected2 else 'Не пройден'}\")"
   ]
  },
  {
   "cell_type": "markdown",
   "metadata": {
    "id": "t2ClV_Y0bbr6"
   },
   "source": [
    "# Задача 2\n",
    "Написать функцию на вход, которой подается строка. Функция должна вернуть true, если\n",
    "каждый символ в строке встречается только 1 раз, иначе должна вернуть false. Написать тесты для кода"
   ]
  },
  {
   "cell_type": "code",
   "execution_count": null,
   "metadata": {
    "id": "FppbECao6VIz"
   },
   "outputs": [
    {
     "name": "stdout",
     "output_type": "stream",
     "text": [
      "Результат теста 1: False, Ожидаемый: False, Пройден\n",
      "Результат теста 2: False, Ожидаемый: False, Пройден\n"
     ]
    }
   ],
   "source": [
    "def check_unique_characters(input_string):\n",
    "    seen_characters = set()\n",
    "    \n",
    "    for char in input_string:\n",
    "        if char in seen_characters:\n",
    "            return False\n",
    "        seen_characters.add(char)\n",
    "    \n",
    "    return True\n",
    "\n",
    "\n",
    "# Тест 1\n",
    "result1 = check_unique_characters(\"Hello\")\n",
    "expected1 = False\n",
    "print(f\"Результат теста 1: {result1}, Ожидаемый: {expected1}, {'Пройден' if result1 == expected1 else 'Не пройден'}\")\n",
    "# Тест 2\n",
    "result2 = check_unique_characters(\"abcc\")\n",
    "expected2 = False\n",
    "print(f\"Результат теста 2: {result2}, Ожидаемый: {expected2}, {'Пройден' if result2 == expected2 else 'Не пройден'}\")\n"
   ]
  },
  {
   "cell_type": "markdown",
   "metadata": {
    "id": "udRiIK1cdt6E"
   },
   "source": [
    "# Задача 3\n",
    "Написать функцию, которая принимает положительное число и возвращает количество\n",
    "бит равных 1 в этом числе. Написать тесты для кода"
   ]
  },
  {
   "cell_type": "code",
   "execution_count": 9,
   "metadata": {
    "id": "6tkfDJRz6dp_"
   },
   "outputs": [
    {
     "name": "stdout",
     "output_type": "stream",
     "text": [
      "4\n"
     ]
    }
   ],
   "source": [
    "def count_ones(n):\n",
    "    count = 0\n",
    "    \n",
    "    while n != 0:\n",
    "        count += n & 1  \n",
    "        n >>= 1      \n",
    "    return count\n",
    "\n",
    "\n",
    "# Тест\n",
    "num = 15\n",
    "print(count_ones(num)) "
   ]
  },
  {
   "cell_type": "markdown",
   "metadata": {
    "id": "26dDUz-Ae17N"
   },
   "source": [
    "# Задача 4\n",
    "Написать функцию, которая принимает положительное число. Функция должна вернуть то,\n",
    "сколько раз необходимо перемножать цифры числа или результат перемножения, чтобы\n",
    "получилось число состоящее из одной цифры.\n",
    "Например, для входного числа:\n",
    "· 39 функция должна вернуть 3, так как 3*9=27 => 2*7=14 => 1*4=4\n",
    "· 4 функция должна вернуть 0, так как число уже состоит из одной цифры\n",
    "· 999 функция должна вернуть 4, так как 9*9*9=729 => 7*2*9=126 => 1*2*6=12 =>\n",
    "1*2=2. Написать тесты для кода"
   ]
  },
  {
   "cell_type": "code",
   "execution_count": 1,
   "metadata": {
    "id": "BH1A_Mgi6i4G"
   },
   "outputs": [
    {
     "name": "stdout",
     "output_type": "stream",
     "text": [
      "3，3,Ожидаемый: 3, Пройден\n"
     ]
    }
   ],
   "source": [
    "def magic(n: int) -> int:\n",
    "    steps = 0 \n",
    "    while n >= 10:\n",
    "        product = 1\n",
    "        for digit in str(n):\n",
    "            product *= int(digit) \n",
    "        n = product\n",
    "        steps += 1\n",
    "    return steps\n",
    "\n",
    "# Тест\n",
    "def test_magic():\n",
    "    result1 = magic(39)\n",
    "    expected1 = 3\n",
    "    print(f\"{result1}，{expected1},Ожидаемый: {expected1}, {'Пройден' if result1 == expected1 else 'Не пройден'}\")\n",
    "\n",
    "test_magic() "
   ]
  },
  {
   "cell_type": "markdown",
   "metadata": {
    "id": "0nS-kIa8g8vd"
   },
   "source": [
    "# Задача 5\n",
    "Написать функцию, которая принимает два целочисленных вектора одинаковой длины и\n",
    "возвращает среднеквадратическое отклонение двух векторов. Написать тесты для кода"
   ]
  },
  {
   "cell_type": "code",
   "execution_count": null,
   "metadata": {
    "id": "8iphx4LM6xbx"
   },
   "outputs": [
    {
     "name": "stdout",
     "output_type": "stream",
     "text": [
      "3.3166247903554\n"
     ]
    }
   ],
   "source": [
    "import math\n",
    "\n",
    "def mean_square_error(vector1, vector2):\n",
    "    if len(vector1) != len(vector2):\n",
    "        raise ValueError('输入的向量长度不相等')\n",
    "\n",
    "    sum_of_squares = sum((x - y) ** 2 for x, y in zip(vector1, vector2))\n",
    "\n",
    "    mean_squared_error = math.sqrt(sum_of_squares / len(vector1))\n",
    "\n",
    "    return mean_squared_error\n",
    "\n",
    "\n",
    "# Тест\n",
    "vector1 = [1, 2, 3, 4, 5]\n",
    "vector2 = [2, 4, 6, 8, 10]\n",
    "\n",
    "result = mean_square_error(vector1, vector2)\n",
    "\n",
    "print(result)"
   ]
  },
  {
   "cell_type": "markdown",
   "metadata": {
    "id": "vpIPKL439zkw"
   },
   "source": [
    "# Задача 6\n",
    "Написать функцию, принимающая целое положительное число. Функция должна вернуть\n",
    "строку вида “(n1**p1)(n2**p2)…(nk**pk)” представляющая разложение числа на простые\n",
    "множители (если pi == 1, то выводить только ni).\n",
    "Например, для числа 86240 функция должна вернуть “(2**5)(5)(7**2)(11)”. Написать тесты для кода"
   ]
  },
  {
   "cell_type": "code",
   "execution_count": null,
   "metadata": {
    "id": "pFebmcZk94Jw"
   },
   "outputs": [
    {
     "name": "stdout",
     "output_type": "stream",
     "text": [
      "(2**3)(7)\n"
     ]
    }
   ],
   "source": [
    "def prime_factorization(n: int) -> str:\n",
    "    def prime_factors(n):\n",
    "        i = 2\n",
    "        factors = {}\n",
    "        while i * i <= n:\n",
    "            while n % i == 0:\n",
    "                if i in factors:\n",
    "                    factors[i] += 1\n",
    "                else:\n",
    "                    factors[i] = 1\n",
    "                n //= i\n",
    "            i += 1\n",
    "        if n > 1:\n",
    "            factors[n] = 1\n",
    "        return factors\n",
    "\n",
    "    factors = prime_factors(n)\n",
    "    result = []\n",
    "    for prime, power in factors.items():\n",
    "        if power == 1:\n",
    "            result.append(f\"({prime})\")\n",
    "        else:\n",
    "            result.append(f\"({prime}**{power})\")\n",
    "    return ''.join(result)\n",
    "\n",
    "\n",
    "# Тест\n",
    "n = 56\n",
    "result = prime_factorization(n)\n",
    "print(result)"
   ]
  },
  {
   "cell_type": "markdown",
   "metadata": {
    "id": "ps2s0BudX7A2"
   },
   "source": [
    "# Задача 7\n",
    "Написать функцию, принимающая целое число n, задающее количество кубиков. Функция\n",
    "должна определить, можно ли из данного кол-ва кубиков построить пирамиду, то есть\n",
    "можно ли представить число n как 1^2+2^2+3^2+…+k^2. Если можно, то функция должна\n",
    "вернуть k, иначе строку “It is impossible”. Написать тесты для кода"
   ]
  },
  {
   "cell_type": "code",
   "execution_count": null,
   "metadata": {
    "id": "3YPjEXxhX_YT"
   },
   "outputs": [
    {
     "name": "stdout",
     "output_type": "stream",
     "text": [
      "4\n",
      "it is impossible\n"
     ]
    }
   ],
   "source": [
    "def pyramid(n):\n",
    "    sum_of_squares = 0\n",
    "    k = 0\n",
    "\n",
    "    while sum_of_squares < n:\n",
    "        k += 1\n",
    "        sum_of_squares += k * k\n",
    "\n",
    "    if sum_of_squares == n:\n",
    "        return k\n",
    "    else:\n",
    "        return 'it is impossible'\n",
    "\n",
    "# Тест\n",
    "print(pyramid(30)) \n",
    "print(pyramid(20)) "
   ]
  },
  {
   "cell_type": "markdown",
   "metadata": {
    "id": "KeKgmIdAQMEJ"
   },
   "source": [
    "# Задача 8\n",
    "Функция принимает на вход положительное число и определяет является ли оно сбалансированным, т.е. сумма цифр до средних равна сумме цифр после. Средними в случае нечетного числа цифр считать одну цифру, в случае четного - две средних. Написать тесты для кода"
   ]
  },
  {
   "cell_type": "code",
   "execution_count": null,
   "metadata": {
    "id": "gMAAqtqlQrZt"
   },
   "outputs": [
    {
     "name": "stdout",
     "output_type": "stream",
     "text": [
      "False\n",
      "False\n"
     ]
    }
   ],
   "source": [
    "def is_balanced(num):\n",
    "    num_str = str(num)\n",
    "    length = len(num_str)\n",
    "    if length % 2 == 0:\n",
    "        first_half = int(num_str[:length//2])\n",
    "        second_half = int(num_str[length//2:])\n",
    "        average = (first_half + second_half) / 2\n",
    "    else:\n",
    "        middle_index = length // 2\n",
    "        average = int(num_str[middle_index])\n",
    "\n",
    "    if average == int(num_str[-1]):\n",
    "        return True\n",
    "    else:\n",
    "        return False\n",
    "\n",
    "\n",
    "# Тест\n",
    "print(is_balanced(12321)) \n",
    "print(is_balanced(12345))  "
   ]
  }
 ],
 "metadata": {
  "colab": {
   "provenance": []
  },
  "kernelspec": {
   "display_name": "Python 3",
   "name": "python3"
  },
  "language_info": {
   "codemirror_mode": {
    "name": "ipython",
    "version": 3
   },
   "file_extension": ".py",
   "mimetype": "text/x-python",
   "name": "python",
   "nbconvert_exporter": "python",
   "pygments_lexer": "ipython3",
   "version": "3.9.6"
  }
 },
 "nbformat": 4,
 "nbformat_minor": 0
}
