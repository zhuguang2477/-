{
 "cells": [
  {
   "cell_type": "markdown",
   "metadata": {
    "id": "vC84e9kzyxPy"
   },
   "source": [
    "<h1>Импорт библиотек"
   ]
  },
  {
   "cell_type": "code",
   "execution_count": 3,
   "metadata": {
    "id": "cgKeNegmQG5S"
   },
   "outputs": [],
   "source": [
    "import numpy as np\n",
    "import matplotlib.pyplot as plt"
   ]
  },
  {
   "cell_type": "markdown",
   "metadata": {
    "id": "qFM9uVU2x4Ls"
   },
   "source": [
    "<h1>Задача 1. Дан набор из $p$ матриц размерностью $(n, n)$ и $p$ векторов размерностью $(n, 1)$, найти сумму произведений матриц на векторы. Написать тесты для кода"
   ]
  },
  {
   "cell_type": "code",
   "execution_count": 1,
   "metadata": {
    "id": "IAbUvEiYyWFF"
   },
   "outputs": [
    {
     "name": "stdout",
     "output_type": "stream",
     "text": [
      "сумма произведений векторной матрицы: 141\n"
     ]
    }
   ],
   "source": [
    "import numpy as np\n",
    "\n",
    "def calculate_matrix_product_sum(matrix, vector_matrix):\n",
    "    product_sum = 0\n",
    "    for i in range(len(matrix)):\n",
    "        product = np.dot(matrix[i], vector_matrix[:, i])\n",
    "        product_sum += product\n",
    "    return product_sum\n",
    "\n",
    "matrix = np.array([[1, 2, 3], [4, 5, 6], [7, 8, 9]])\n",
    "vector_matrix = np.array([[2, 2, 2], [3, 3, 3], [4, 4, 4]])\n",
    "\n",
    "result = calculate_matrix_product_sum(matrix, vector_matrix)\n",
    "print('сумма произведений векторной матрицы:', result)"
   ]
  },
  {
   "cell_type": "markdown",
   "metadata": {
    "id": "TKwPG4fIy2w4"
   },
   "source": [
    "<h1>Задача 2. Дана матрица M, напишите функцию, которая бинаризует матрицу по некоторому threshold (то есть, все значения большие threshold становятся равными 1, иначе 0). Напишите тесты для кода"
   ]
  },
  {
   "cell_type": "code",
   "execution_count": 2,
   "metadata": {
    "id": "KQDNMgsjRNH7"
   },
   "outputs": [
    {
     "name": "stdout",
     "output_type": "stream",
     "text": [
      "[[0 0 0]\n",
      " [0 1 1]\n",
      " [1 1 1]]\n"
     ]
    }
   ],
   "source": [
    "import numpy as np\n",
    "\n",
    "\n",
    "def binary_threshold(matrix, threshold):\n",
    "    binary_matrix = np.where(matrix >= threshold, 1, 0)\n",
    "    return binary_matrix\n",
    "\n",
    "\n",
    "# Тест\n",
    "M = np.array([[1, 2, 3], [4, 5, 6], [7, 8, 9]])\n",
    "threshold_value = 5\n",
    "binary_M = binary_threshold(M, threshold_value)\n",
    "print(binary_M)"
   ]
  },
  {
   "cell_type": "markdown",
   "metadata": {
    "id": "IY5L-h-7zWhN"
   },
   "source": [
    "<h1>Задача 3. Напишите функцию, которая возвращает уникальные элементы из каждой строки матрицы. Напишите такую же функцию, но для столбцов. Напишите тесты для кода"
   ]
  },
  {
   "cell_type": "code",
   "execution_count": null,
   "metadata": {
    "id": "-8dEZhR0SBC-"
   },
   "outputs": [
    {
     "name": "stdout",
     "output_type": "stream",
     "text": [
      "Unique rows: [[1 2 3]\n",
      " [4 5 6]]\n",
      "Unique columns: [[1 2 3]\n",
      " [4 5 6]\n",
      " [1 2 3]]\n"
     ]
    }
   ],
   "source": [
    "import numpy as np\n",
    "\n",
    "def remove_duplicates(arr):\n",
    "    unique_rows = np.unique(arr, axis=0)\n",
    "    \n",
    "    unique_cols = np.unique(arr, axis=1)\n",
    "    \n",
    "    return unique_rows, unique_cols\n",
    "\n",
    "# Тест\n",
    "arr = np.array([[1, 2, 3],\n",
    "                [4, 5, 6],\n",
    "                [1, 2, 3]])\n",
    "\n",
    "unique_rows, unique_cols = remove_duplicates(arr)\n",
    "print('Unique rows:', unique_rows)\n",
    "print('Unique columns:', unique_cols)"
   ]
  },
  {
   "cell_type": "markdown",
   "metadata": {
    "id": "roYAlo4Jz-lH"
   },
   "source": [
    "<h1>Задача 4. Напишите функцию, которая заполняет матрицу с размерами $(m, n)$ случайными числами, распределенными по нормальному закону. Затем считает мат. ожидание и дисперсию для каждого из столбцов и строк, а также строит для каждой строки и столбца гистограмму значений (использовать функцию hist из модуля matplotlib.plot)"
   ]
  },
  {
   "cell_type": "code",
   "execution_count": null,
   "metadata": {
    "id": "nZK_71hMSQzv"
   },
   "outputs": [
    {
     "name": "stdout",
     "output_type": "stream",
     "text": [
      "[[-0.5814518  -1.59605381  1.55682166 -0.52082521  0.75204682]\n",
      " [ 1.08337264 -0.40650954 -1.03875941  0.63389747 -0.53932983]\n",
      " [-0.79347409  0.22988844  1.32084121 -0.32040372  0.2719207 ]\n",
      " [ 0.13835053 -0.68200963  1.24476149  0.94951051 -0.12322133]]\n"
     ]
    }
   ],
   "source": [
    "import numpy as np\n",
    "\n",
    "def fill_matrix_with_normal_distribution(rows, cols):\n",
    "    matrix = np.random.randn(rows, cols)\n",
    "    return matrix\n",
    "\n",
    "# Тест\n",
    "rows = 4\n",
    "cols = 5\n",
    "result = fill_matrix_with_normal_distribution(rows, cols)\n",
    "print(result)"
   ]
  },
  {
   "cell_type": "markdown",
   "metadata": {
    "id": "BDyATNdM0dJ2"
   },
   "source": [
    "<h1>Задача 5. Напишите функцию, которая заполняет матрицу $(m, n)$ в шахматном порядке заданными числами $a$ и $b$. Напишите тесты для кода"
   ]
  },
  {
   "cell_type": "code",
   "execution_count": null,
   "metadata": {
    "id": "RWNJYWQGecS6"
   },
   "outputs": [
    {
     "name": "stdout",
     "output_type": "stream",
     "text": [
      "[[3, 6, 3, 6, 3], [6, 3, 6, 3, 6], [3, 6, 3, 6, 3], [6, 3, 6, 3, 6]]\n"
     ]
    }
   ],
   "source": [
    "def chess(m, n, a, b):\n",
    "    matrix = []\n",
    "    for i in range(m):\n",
    "        row = []\n",
    "        for j in range(n):\n",
    "            if i % 2 == 0:\n",
    "                if j % 2 == 0:\n",
    "                    row.append(a)\n",
    "                else:\n",
    "                    row.append(b)\n",
    "            else:\n",
    "                if j % 2 == 0:\n",
    "                    row.append(b)\n",
    "                else:\n",
    "                    row.append(a)\n",
    "        matrix.append(row)\n",
    "    return matrix\n",
    "\n",
    "# Тест\n",
    "m = 4\n",
    "n = 5\n",
    "a = 3\n",
    "b = 6\n",
    "result = chess(m, n, a, b)\n",
    "print(result) "
   ]
  },
  {
   "cell_type": "markdown",
   "metadata": {
    "id": "-ymXLtTN0vB6"
   },
   "source": [
    "<h1>Задача 6. Напишите функцию, которая отрисовывает прямоугольник с заданными размерами (a, b) на изображении размера (m, n), цвет фона задайте в схеме RGB, как и цвет прямоугольника. Цвета также должны быть параметрами функции. Напишите аналогичную функцию но для овала с полуосями a и b. Напишите тесты для кода.\n",
    "Примечание: уравнение эллипса (границы овала) можно записать как:\n",
    "<h1>$\\frac{(x-x_0)^2}{a^2}+\\frac{(y-y_0)^2}{b^2}=1$"
   ]
  },
  {
   "cell_type": "code",
   "execution_count": null,
   "metadata": {
    "id": "sNfl1t_kfOF4"
   },
   "outputs": [],
   "source": [
    "from curses.textpad import rectangle\n",
    "\n",
    "\n",
    "def draw_shapes(a, b, m, n, shape_color, background_color, shape_type):\n",
    "    fig, ax = plt.subplots(figsize=(m/10, n/10))\n",
    "    ax.set_facecolor(background_color)\n",
    "\n",
    "    if shape_type == 'rectangle':\n",
    "        shape = rectangle(((m-a)/2, (n-b)/2), a, b, linewidth=1, edgecolor='black', facecolor=shape_color)\n",
    "    elif shape_type == 'ellipse':\n",
    "        shape = Ellipsis((m/2, n/2), 2*a, 2*b, linewidth=1, edgecolor='black', facecolor=shape_color)\n",
    "\n",
    "    ax.add_patch(shape)\n",
    "    ax.set_xlim(0, m)\n",
    "    ax.set_ylim(0, n)\n",
    "    plt.gca().set_aspect('equal', adjustable='box')\n",
    "    plt.show()\n",
    "\n",
    "# Тест\n",
    "shape_type = input('rectangle')\n",
    "a = int(input('4'))\n",
    "b = int(input('7'))\n",
    "m = int(input('4'))\n",
    "n = int(input('5'))\n",
    "shape_color = tuple(float(x) for x in input('shape_color=(0.8, 0.2, 0.2)').split(','))\n",
    "background_color = tuple(float(x) for x in input('background_color=(0.9, 0.9, 0.9)').split(','))\n",
    "\n",
    "draw_shapes(4, 7, 4, 5, shape_color=(0.8, 0.2, 0.2), background_color=(0.9, 0.9, 0.9, shape_type))"
   ]
  },
  {
   "cell_type": "markdown",
   "metadata": {
    "id": "S82c38oz244H"
   },
   "source": [
    "<h1>Задача 7. Дан некий временной ряд. Для данного ряда нужно найти его: математическое ожидание, дисперсию, СКО, найти все локальные максимумы и минимумы (локальный максимум - это точка, которая больше своих соседних точек, а локальный минимум - это точка, которая меньше своих соседей), а также вычислить для данного ряда другой ряд, получаемый методом скользящего среднего с размером окна $p$.\n",
    "<h1>Примечание: метод скользящего среднего подразумевает нахождение среднего из подмножетсва ряда размером $p$"
   ]
  },
  {
   "cell_type": "code",
   "execution_count": null,
   "metadata": {
    "id": "Zb9mIVge5MMt"
   },
   "outputs": [
    {
     "name": "stdout",
     "output_type": "stream",
     "text": [
      "Mean: 2.6666666666666665\n",
      "Variance: 1.3888888888888886\n",
      "Standard Deviation: 1.178511301977579\n",
      "Local Max Indices: [2, 8]\n",
      "Local Min Indices: [4]\n",
      "Moving Average: [2.         2.33333333 2.         1.66666667 2.         3.\n",
      " 4.         4.33333333 4.         3.        ]\n"
     ]
    }
   ],
   "source": [
    "import numpy as np\n",
    "\n",
    "def analyze_time_series(time_series, window_size):\n",
    "    mean = np.mean(time_series)\n",
    "    variance = np.var(time_series)\n",
    "    std_deviation = np.std(time_series)\n",
    "    moving_avg = np.convolve(time_series, np.ones(window_size)/window_size, mode='valid')\n",
    "    \n",
    "    local_max_indices = []\n",
    "    local_min_indices = []\n",
    "    \n",
    "    for i in range(1, len(time_series)-1):\n",
    "        if time_series[i] >= time_series[i-1] and time_series[i] >= time_series[i+1]:\n",
    "            local_max_indices.append(i)\n",
    "        elif time_series[i] <= time_series[i-1] and time_series[i] <= time_series[i+1]:\n",
    "            local_min_indices.append(i)\n",
    "    \n",
    "    return mean, variance, std_deviation, local_max_indices, local_min_indices, moving_avg\n",
    "\n",
    "# Тест\n",
    "time_series = [1, 2, 3, 2, 1, 2, 3, 4, 5, 4, 3, 2]\n",
    "window_size = 3\n",
    "result = analyze_time_series(time_series, window_size)\n",
    "print('Mean:', result[0])\n",
    "print('Variance:', result[1])\n",
    "print('Standard Deviation:', result[2])\n",
    "print('Local Max Indices:', result[3])\n",
    "print('Local Min Indices:', result[4])\n",
    "print('Moving Average:', result[5])"
   ]
  },
  {
   "cell_type": "markdown",
   "metadata": {
    "id": "jPkylmOX5O9n"
   },
   "source": [
    "<h1> Задача 8. Дан некоторый вектор с целочисленными метками классов, напишите функцию, которая выполняет one-hot-encoding для данного вектора\n",
    "<h1> One-hot-encoding - представление, в котором на месте метки некоторого класса стоит 1, в остальных позициях стоит 0. Например для вектора [0, 2, 3, 0] one-hot-encoding выглядит как: [[1, 0, 0, 0], [0, 0, 1, 0], [0, 0, 0, 1], [1, 0, 0, 0]]"
   ]
  },
  {
   "cell_type": "code",
   "execution_count": null,
   "metadata": {
    "id": "Y-jlnZvw56lD"
   },
   "outputs": [
    {
     "name": "stdout",
     "output_type": "stream",
     "text": [
      "[[1, 0, 0, 0], [0, 0, 1, 0], [0, 0, 0, 1], [1, 0, 0, 0]]\n"
     ]
    }
   ],
   "source": [
    "def one_hot_encoding(vector):\n",
    "    \n",
    "    max_val = max(vector)\n",
    "    encoding_length = max_val + 1\n",
    "    encoding = []\n",
    "    \n",
    "    for element in vector:\n",
    "        \n",
    "        one_hot = [0] * encoding_length\n",
    "        one_hot[element] = 1\n",
    "        encoding.append(one_hot)\n",
    "    \n",
    "    return encoding\n",
    "\n",
    "# Тест\n",
    "vector = [0, 2, 3, 0]\n",
    "one_hot = one_hot_encoding(vector)\n",
    "print(one_hot) "
   ]
  }
 ],
 "metadata": {
  "colab": {
   "provenance": []
  },
  "kernelspec": {
   "display_name": "Python 3",
   "name": "python3"
  },
  "language_info": {
   "codemirror_mode": {
    "name": "ipython",
    "version": 3
   },
   "file_extension": ".py",
   "mimetype": "text/x-python",
   "name": "python",
   "nbconvert_exporter": "python",
   "pygments_lexer": "ipython3",
   "version": "3.9.6"
  }
 },
 "nbformat": 4,
 "nbformat_minor": 0
}
